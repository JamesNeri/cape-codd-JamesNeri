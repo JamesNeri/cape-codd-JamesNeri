{
 "cells": [
  {
   "cell_type": "markdown",
   "metadata": {},
   "source": [
    "# Kroenke & Auer Chapter 2\n",
    "Use this notebook to follow along with the class slides (and textbook). "
   ]
  },
  {
   "cell_type": "markdown",
   "metadata": {},
   "source": [
    "## The Source Code\n",
    "In this folder are the source files for the examples in textbook:\n",
    "- DBP-e14-MySQL-Cape-Codd-Create-Tables.sql uses SQL Data Definition Language to create and structure the tables needed for our data\n",
    "- DBP-e14-MySQL-Cape-Codd-Insert-Data.sql uses SQL Data Manipulation Language to insert data into the tables. \n",
    "\n",
    "Before just moving on, open each file to see what the code looks like. You will see lots of comments at the top explaining the purpose and provenance of each file. Then there are lots and lots of SQL statements. They may look like jibberish for now, but within a couple weeks you will know enough to be able to write these files for yourself! \n",
    "\n",
    "## The Live Database\n",
    "To keep things simple, these source files have already been preloaded into a MySQL database on BA Lab server. The commands the system admin used were:\n",
    "```\n",
    "mysqladmin create cape_codd\n",
    "mysql cape_code <DBP-e14-MySQL-Cape-Codd-Create-Tables.sql\n",
    "mysql cape_codd <DBP-e14-MySQL-Cape-Codd-Insert-Data.sql\n",
    "```\n",
    "The above statements are in bash, a langauge for unix system administration from the command line. Can you figure out what each line does? \n",
    "\n",
    "After loading the database, user permissions were then granted separately with the SQL command:\n",
    "```\n",
    "GRANT SELECT on cape_codd.* to 'ba510student'@'localhost' IDENTIFIED BY 'ba510';\n",
    "```\n",
    "\n",
    "The rest of this Notebook will use SQL to extract data from the database. "
   ]
  },
  {
   "cell_type": "markdown",
   "metadata": {},
   "source": [
    "## Connect to the Database\n",
    "Fill in the <connect-string> (below) with a properly crafted connect string with the following parameters:\n",
    "- method: mysql+pymysql\n",
    "- user: ba510student\n",
    "- password: ba510\n",
    "- host: localhost\n",
    "- database name: cape_codd"
   ]
  },
  {
   "cell_type": "code",
   "execution_count": null,
   "metadata": {},
   "outputs": [],
   "source": [
    "%load_ext sql\n",
    "%sql <connect-string>"
   ]
  },
  {
   "cell_type": "markdown",
   "metadata": {},
   "source": [
    "## Try out the queries in the class slides\n",
    "Each query should be run in a single cell with `%%sql` magic at the top. You will need to add cells as you go along. Tip: use Markdown cells to annotate your queries so you know what they are about. Alternatively, you could use /* */ comments instead. It's up to you. "
   ]
  },
  {
   "cell_type": "code",
   "execution_count": null,
   "metadata": {},
   "outputs": [],
   "source": []
  }
 ],
 "metadata": {
  "kernelspec": {
   "display_name": "Python 3",
   "language": "python",
   "name": "python3"
  },
  "language_info": {
   "codemirror_mode": {
    "name": "ipython",
    "version": 3
   },
   "file_extension": ".py",
   "mimetype": "text/x-python",
   "name": "python",
   "nbconvert_exporter": "python",
   "pygments_lexer": "ipython3",
   "version": "3.6.5"
  }
 },
 "nbformat": 4,
 "nbformat_minor": 2
}
